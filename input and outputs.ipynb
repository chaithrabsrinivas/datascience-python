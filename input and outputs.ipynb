{
 "cells": [
  {
   "cell_type": "markdown",
   "id": "439c40fd",
   "metadata": {},
   "source": [
    "- output using print function\n",
    "- input using input function\n",
    "- variables and literals\n",
    "- basic arithmatic operation"
   ]
  },
  {
   "cell_type": "markdown",
   "id": "2e43fe3f",
   "metadata": {},
   "source": [
    "# print()\n",
    "  - used to print output"
   ]
  },
  {
   "cell_type": "code",
   "execution_count": 1,
   "id": "29a29395",
   "metadata": {},
   "outputs": [
    {
     "name": "stdout",
     "output_type": "stream",
     "text": [
      "hello\n"
     ]
    }
   ],
   "source": [
    "print('hello')"
   ]
  },
  {
   "cell_type": "code",
   "execution_count": 2,
   "id": "e7f39649",
   "metadata": {},
   "outputs": [
    {
     "name": "stdout",
     "output_type": "stream",
     "text": [
      " be good to yourself \n"
     ]
    }
   ],
   "source": [
    "print(\" be good to yourself \")"
   ]
  },
  {
   "cell_type": "code",
   "execution_count": 3,
   "id": "862dce5b",
   "metadata": {},
   "outputs": [
    {
     "ename": "NameError",
     "evalue": "name 'good' is not defined",
     "output_type": "error",
     "traceback": [
      "\u001b[1;31m---------------------------------------------------------------------------\u001b[0m",
      "\u001b[1;31mNameError\u001b[0m                                 Traceback (most recent call last)",
      "\u001b[1;32m~\\AppData\\Local\\Temp\\ipykernel_10468\\1229951600.py\u001b[0m in \u001b[0;36m<module>\u001b[1;34m\u001b[0m\n\u001b[1;32m----> 1\u001b[1;33m \u001b[0mprint\u001b[0m\u001b[1;33m(\u001b[0m\u001b[0mgood\u001b[0m\u001b[1;33m)\u001b[0m  \u001b[1;31m# python will assume this is a variable\u001b[0m\u001b[1;33m\u001b[0m\u001b[1;33m\u001b[0m\u001b[0m\n\u001b[0m",
      "\u001b[1;31mNameError\u001b[0m: name 'good' is not defined"
     ]
    }
   ],
   "source": [
    "print(good)  # python will assume this is a variable"
   ]
  },
  {
   "cell_type": "code",
   "execution_count": 4,
   "id": "3e416470",
   "metadata": {},
   "outputs": [
    {
     "name": "stdout",
     "output_type": "stream",
     "text": [
      "11\n"
     ]
    }
   ],
   "source": [
    "print(5 + 6)\n"
   ]
  },
  {
   "cell_type": "code",
   "execution_count": 5,
   "id": "a056d7f9",
   "metadata": {},
   "outputs": [
    {
     "name": "stdout",
     "output_type": "stream",
     "text": [
      "5\n",
      "10\n",
      "5.0\n"
     ]
    }
   ],
   "source": [
    "print(10 - 5)\n",
    "print(5 * 2)\n",
    "print(10 / 2)"
   ]
  },
  {
   "cell_type": "markdown",
   "id": "f9f591db",
   "metadata": {},
   "source": [
    "# variables\n"
   ]
  },
  {
   "cell_type": "code",
   "execution_count": 6,
   "id": "217e823f",
   "metadata": {},
   "outputs": [],
   "source": [
    "a = 1000\n"
   ]
  },
  {
   "cell_type": "code",
   "execution_count": 7,
   "id": "f5dee0a6",
   "metadata": {},
   "outputs": [
    {
     "name": "stdout",
     "output_type": "stream",
     "text": [
      "1000\n"
     ]
    }
   ],
   "source": [
    "a= 1000\n",
    "print(a)"
   ]
  },
  {
   "cell_type": "code",
   "execution_count": 8,
   "id": "0114100f",
   "metadata": {},
   "outputs": [
    {
     "name": "stdout",
     "output_type": "stream",
     "text": [
      "500\n"
     ]
    }
   ],
   "source": [
    "a = 1000\n",
    "b = 500\n",
    "print( a - b)"
   ]
  },
  {
   "cell_type": "code",
   "execution_count": 9,
   "id": "607924b7",
   "metadata": {},
   "outputs": [
    {
     "name": "stdout",
     "output_type": "stream",
     "text": [
      "chaithra\n"
     ]
    }
   ],
   "source": [
    "name = 'chaithra'\n",
    "print(name)"
   ]
  },
  {
   "cell_type": "code",
   "execution_count": 10,
   "id": "5c28c8e9",
   "metadata": {},
   "outputs": [
    {
     "ename": "NameError",
     "evalue": "name 'chaithra' is not defined",
     "output_type": "error",
     "traceback": [
      "\u001b[1;31m---------------------------------------------------------------------------\u001b[0m",
      "\u001b[1;31mNameError\u001b[0m                                 Traceback (most recent call last)",
      "\u001b[1;32m~\\AppData\\Local\\Temp\\ipykernel_10468\\4227258961.py\u001b[0m in \u001b[0;36m<module>\u001b[1;34m\u001b[0m\n\u001b[1;32m----> 1\u001b[1;33m \u001b[0mname\u001b[0m \u001b[1;33m=\u001b[0m \u001b[0mchaithra\u001b[0m\u001b[1;33m\u001b[0m\u001b[1;33m\u001b[0m\u001b[0m\n\u001b[0m\u001b[0;32m      2\u001b[0m \u001b[0mprint\u001b[0m\u001b[1;33m(\u001b[0m\u001b[0mname\u001b[0m\u001b[1;33m)\u001b[0m\u001b[1;33m\u001b[0m\u001b[1;33m\u001b[0m\u001b[0m\n",
      "\u001b[1;31mNameError\u001b[0m: name 'chaithra' is not defined"
     ]
    }
   ],
   "source": [
    "name = chaithra\n",
    "print(name)"
   ]
  },
  {
   "cell_type": "code",
   "execution_count": 11,
   "id": "36efc998",
   "metadata": {},
   "outputs": [
    {
     "name": "stdout",
     "output_type": "stream",
     "text": [
      "40.0\n"
     ]
    }
   ],
   "source": [
    "print( 10 + 2 * 3 / 2* 10)\n"
   ]
  },
  {
   "cell_type": "code",
   "execution_count": 12,
   "id": "2c6c962f",
   "metadata": {},
   "outputs": [
    {
     "name": "stdout",
     "output_type": "stream",
     "text": [
      "hello 5\n"
     ]
    }
   ],
   "source": [
    "a = 5\n",
    "print ('hello', a)"
   ]
  },
  {
   "cell_type": "code",
   "execution_count": 13,
   "id": "d3547553",
   "metadata": {},
   "outputs": [
    {
     "name": "stdout",
     "output_type": "stream",
     "text": [
      "hello make sure\n"
     ]
    }
   ],
   "source": [
    "print( 'hello','make sure')"
   ]
  },
  {
   "cell_type": "code",
   "execution_count": 14,
   "id": "fba3b7af",
   "metadata": {},
   "outputs": [
    {
     "name": "stdout",
     "output_type": "stream",
     "text": [
      " the sum of three variables is : 600\n"
     ]
    }
   ],
   "source": [
    "a = 100\n",
    "b = 200\n",
    "c = 300\n",
    "print(' the sum of three variables is :', a + b + c)"
   ]
  },
  {
   "cell_type": "markdown",
   "id": "253fab99",
   "metadata": {},
   "source": [
    "# input()\n",
    "- used to take input from the user"
   ]
  },
  {
   "cell_type": "code",
   "execution_count": 1,
   "id": "c161223a",
   "metadata": {},
   "outputs": [
    {
     "name": "stdout",
     "output_type": "stream",
     "text": [
      "chaithra\n"
     ]
    },
    {
     "data": {
      "text/plain": [
       "'chaithra'"
      ]
     },
     "execution_count": 1,
     "metadata": {},
     "output_type": "execute_result"
    }
   ],
   "source": [
    "input()\n",
    "\n"
   ]
  },
  {
   "cell_type": "code",
   "execution_count": 2,
   "id": "48b8f97e",
   "metadata": {},
   "outputs": [
    {
     "name": "stdout",
     "output_type": "stream",
     "text": [
      "chaithra\n"
     ]
    }
   ],
   "source": [
    "name = input()"
   ]
  },
  {
   "cell_type": "code",
   "execution_count": 3,
   "id": "4e63b961",
   "metadata": {},
   "outputs": [
    {
     "name": "stdout",
     "output_type": "stream",
     "text": [
      "chaithra\n",
      "hello chaithra\n"
     ]
    }
   ],
   "source": [
    "name = input()\n",
    "print('hello', name)"
   ]
  },
  {
   "cell_type": "code",
   "execution_count": 5,
   "id": "8c3b2020",
   "metadata": {},
   "outputs": [
    {
     "name": "stdout",
     "output_type": "stream",
     "text": [
      " i am loving utkarsh sir's teaching \n"
     ]
    }
   ],
   "source": [
    "print (\" i am loving utkarsh sir's teaching \")"
   ]
  },
  {
   "cell_type": "code",
   "execution_count": 6,
   "id": "cc89e56f",
   "metadata": {},
   "outputs": [
    {
     "name": "stdout",
     "output_type": "stream",
     "text": [
      "chaithra \n",
      "srinivas\n",
      "tumkur\n"
     ]
    }
   ],
   "source": [
    "frist_name = input()\n",
    "last_name = input()\n",
    "city = input()"
   ]
  },
  {
   "cell_type": "code",
   "execution_count": 7,
   "id": "1f0e4cd4",
   "metadata": {},
   "outputs": [
    {
     "name": "stdout",
     "output_type": "stream",
     "text": [
      "the details are :\n",
      "frist name: chaithra \n",
      "last name: srinivas\n",
      "city: tumkur\n"
     ]
    }
   ],
   "source": [
    "print('the details are :')\n",
    "print('frist name:', frist_name)\n",
    "print('last name:', last_name)\n",
    "print('city:', city)"
   ]
  },
  {
   "cell_type": "code",
   "execution_count": 9,
   "id": "97567dd7",
   "metadata": {},
   "outputs": [
    {
     "name": "stdout",
     "output_type": "stream",
     "text": [
      "enter first name:chaithra\n",
      "enter last name:srinivas\n",
      "enter city :tumkur\n"
     ]
    }
   ],
   "source": [
    "first_name = input('enter first name:')\n",
    "last_name = input('enter last name:')\n",
    "city = input('enter city :')"
   ]
  },
  {
   "cell_type": "code",
   "execution_count": 11,
   "id": "fd151c45",
   "metadata": {},
   "outputs": [
    {
     "name": "stdout",
     "output_type": "stream",
     "text": [
      "enter first name:chaithra\n",
      "enter last name:srinivas\n",
      "enter city :Tumakuru\n",
      "enter age :21\n",
      "enter college_name :ssit\n",
      "\n",
      "the details are :\n",
      "frist name: chaithra \n",
      "last name: srinivas\n",
      "city: Tumakuru\n",
      "age: 21\n",
      "college_name: ssit\n"
     ]
    }
   ],
   "source": [
    "# write a python that takes at least 5 details\n",
    "first_name = input('enter first name:')\n",
    "last_name = input('enter last name:')\n",
    "city = input('enter city :')\n",
    "age = input('enter age :')\n",
    "college_name = input ('enter college_name :')\n",
    "\n",
    "print()\n",
    "print('the details are :')\n",
    "print('frist name:', frist_name)\n",
    "print('last name:', last_name)\n",
    "print('city:', city)\n",
    "print('age:', age)\n",
    "print('college_name:', college_name)"
   ]
  },
  {
   "cell_type": "code",
   "execution_count": null,
   "id": "68bef8af",
   "metadata": {},
   "outputs": [],
   "source": []
  }
 ],
 "metadata": {
  "kernelspec": {
   "display_name": "Python 3 (ipykernel)",
   "language": "python",
   "name": "python3"
  },
  "language_info": {
   "codemirror_mode": {
    "name": "ipython",
    "version": 3
   },
   "file_extension": ".py",
   "mimetype": "text/x-python",
   "name": "python",
   "nbconvert_exporter": "python",
   "pygments_lexer": "ipython3",
   "version": "3.9.13"
  }
 },
 "nbformat": 4,
 "nbformat_minor": 5
}
