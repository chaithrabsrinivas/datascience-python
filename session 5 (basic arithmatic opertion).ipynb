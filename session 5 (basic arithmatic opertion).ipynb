{
 "cells": [
  {
   "cell_type": "markdown",
   "id": "0f7dc7ca",
   "metadata": {},
   "source": [
    "# end\n",
    "- used to specify what appears at the end a print statement\n"
   ]
  },
  {
   "cell_type": "code",
   "execution_count": 5,
   "id": "4395b1c7",
   "metadata": {},
   "outputs": [
    {
     "name": "stdout",
     "output_type": "stream",
     "text": [
      "hello everyone\tgood evening\t"
     ]
    }
   ],
   "source": [
    "print ('hello everyone' , end = '\\t' )\n",
    "print('good evening', end = '\\t')"
   ]
  },
  {
   "cell_type": "code",
   "execution_count": 6,
   "id": "196d877b",
   "metadata": {},
   "outputs": [
    {
     "name": "stdout",
     "output_type": "stream",
     "text": [
      "hello everyone  good evening  "
     ]
    }
   ],
   "source": [
    "print ('hello everyone' , end = '  ' )\n",
    "print('good evening', end = '  ')\n",
    "\n"
   ]
  },
  {
   "cell_type": "code",
   "execution_count": 7,
   "id": "746ad62f",
   "metadata": {},
   "outputs": [
    {
     "name": "stdout",
     "output_type": "stream",
     "text": [
      " good everyone  good evening\n"
     ]
    }
   ],
   "source": [
    "print (' good everyone', ' good evening')"
   ]
  },
  {
   "cell_type": "markdown",
   "id": "61ec889c",
   "metadata": {},
   "source": [
    "# sep\n",
    "- used to specify how multiple outputs of the same print statement appear\n",
    "\n"
   ]
  },
  {
   "cell_type": "code",
   "execution_count": 10,
   "id": "3080517a",
   "metadata": {},
   "outputs": [
    {
     "name": "stdout",
     "output_type": "stream",
     "text": [
      "hello everyone good evening  welcome to this session\n"
     ]
    }
   ],
   "source": [
    "print('hello everyone','good evening ','welcome to this session')"
   ]
  },
  {
   "cell_type": "code",
   "execution_count": 11,
   "id": "1a8e36c3",
   "metadata": {},
   "outputs": [
    {
     "name": "stdout",
     "output_type": "stream",
     "text": [
      "hello Everyonegood eveningwelcome to this session\n"
     ]
    }
   ],
   "source": [
    "print('hello Everyone','good evening','welcome to this session', sep = '')"
   ]
  },
  {
   "cell_type": "code",
   "execution_count": 12,
   "id": "f8bd48f7",
   "metadata": {},
   "outputs": [
    {
     "name": "stdout",
     "output_type": "stream",
     "text": [
      "hello Everyone   good evening   welcome to this session\n"
     ]
    }
   ],
   "source": [
    "print('hello Everyone','good evening','welcome to this session', sep = '   ')"
   ]
  },
  {
   "cell_type": "code",
   "execution_count": 13,
   "id": "61daa766",
   "metadata": {},
   "outputs": [
    {
     "name": "stdout",
     "output_type": "stream",
     "text": [
      "hello Everyone\n",
      "good evening\n",
      "welcome to this session\n"
     ]
    }
   ],
   "source": [
    "print('hello Everyone','good evening','welcome to this session', sep = '\\n')"
   ]
  },
  {
   "cell_type": "code",
   "execution_count": 14,
   "id": "f2865e79",
   "metadata": {},
   "outputs": [
    {
     "name": "stdout",
     "output_type": "stream",
     "text": [
      "hello Everyone\tgood evening\twelcome to this session\n"
     ]
    }
   ],
   "source": [
    "print('hello Everyone','good evening','welcome to this session', sep = '\\t')"
   ]
  },
  {
   "cell_type": "markdown",
   "id": "05ce51d0",
   "metadata": {},
   "source": [
    "**end** end parameter is used to specify what appers what appers at the end of a print statement of a print statement (by default \\n)\n",
    "**sep** : sep parameter is used to specify what appers between multiple output of a single print statement (by default space)\n"
   ]
  },
  {
   "cell_type": "code",
   "execution_count": 15,
   "id": "ee3be37d",
   "metadata": {},
   "outputs": [],
   "source": [
    "# format function\n"
   ]
  },
  {
   "cell_type": "code",
   "execution_count": 16,
   "id": "3e34fb9c",
   "metadata": {},
   "outputs": [
    {
     "name": "stdout",
     "output_type": "stream",
     "text": [
      "enter your age : 21\n",
      "i am 21 year old\n"
     ]
    }
   ],
   "source": [
    "age = input ('enter your age : ')\n",
    "print('i am {} year old' .format(age))"
   ]
  },
  {
   "cell_type": "code",
   "execution_count": 17,
   "id": "01746c16",
   "metadata": {},
   "outputs": [
    {
     "name": "stdout",
     "output_type": "stream",
     "text": [
      "enter the name : chaithra\n",
      "enter the monthly salary : 500000\n",
      " chaithra earns 500000 per month\n"
     ]
    }
   ],
   "source": [
    "name = input('enter the name : ')\n",
    "salary = input('enter the monthly salary : ')\n",
    "print(' {} earns {} per month' .format(name, salary))"
   ]
  },
  {
   "cell_type": "code",
   "execution_count": 1,
   "id": "0c57b2c5",
   "metadata": {},
   "outputs": [
    {
     "name": "stdout",
     "output_type": "stream",
     "text": [
      "enter first number :1\n",
      "enter second number : 2\n",
      "the sum of given number is :  12\n"
     ]
    }
   ],
   "source": [
    "# take two numbers as input and print their sum\n",
    "num1 = input('enter first number :')\n",
    "num2 = input('enter second number : ')\n",
    "result = num1+num2\n",
    "print('the sum of given number is : ' , result)\n"
   ]
  },
  {
   "cell_type": "code",
   "execution_count": 2,
   "id": "afb68283",
   "metadata": {},
   "outputs": [
    {
     "name": "stdout",
     "output_type": "stream",
     "text": [
      "enter the name : chaithra\n",
      "enter the monthly salary : 50000\n",
      " chaithra earns 50000 per month\n"
     ]
    }
   ],
   "source": [
    "name = input('enter the name : ')\n",
    "salary = input('enter the monthly salary : ')\n",
    "print(' {} earns {} per month' .format(name , salary))"
   ]
  },
  {
   "cell_type": "code",
   "execution_count": 3,
   "id": "d8f192bc",
   "metadata": {},
   "outputs": [
    {
     "name": "stdout",
     "output_type": "stream",
     "text": [
      "enter first number : 1\n",
      "enter second number : 2\n",
      "the sum given number is : 12\n"
     ]
    }
   ],
   "source": [
    "# take two numbers as input and print their sum \n",
    "num1 = input('enter first number : ')\n",
    "num2 = input('enter second number : ')\n",
    "result = num1+num2\n",
    "print('the sum given number is :' , num1+num2)"
   ]
  },
  {
   "cell_type": "code",
   "execution_count": 4,
   "id": "bcfbf367",
   "metadata": {},
   "outputs": [
    {
     "name": "stdout",
     "output_type": "stream",
     "text": [
      "enter first number : 2\n",
      "enter second number : 3\n",
      "the sum given number is : 23\n"
     ]
    }
   ],
   "source": [
    "num1 = input('enter first number : ')\n",
    "num2 = input('enter second number : ')\n",
    "result = num1+num2\n",
    "print('the sum given number is :' , num1+num2)"
   ]
  },
  {
   "cell_type": "code",
   "execution_count": 5,
   "id": "232b8a08",
   "metadata": {},
   "outputs": [
    {
     "data": {
      "text/plain": [
       "str"
      ]
     },
     "execution_count": 5,
     "metadata": {},
     "output_type": "execute_result"
    }
   ],
   "source": [
    "# converting a string to a number\n",
    "a = '100'\n",
    "type(a)"
   ]
  },
  {
   "cell_type": "code",
   "execution_count": 6,
   "id": "8b69cbb2",
   "metadata": {},
   "outputs": [
    {
     "data": {
      "text/plain": [
       "int"
      ]
     },
     "execution_count": 6,
     "metadata": {},
     "output_type": "execute_result"
    }
   ],
   "source": [
    "a = int('100')\n",
    "type(a)"
   ]
  },
  {
   "cell_type": "code",
   "execution_count": 7,
   "id": "99a6a8c2",
   "metadata": {},
   "outputs": [
    {
     "data": {
      "text/plain": [
       "float"
      ]
     },
     "execution_count": 7,
     "metadata": {},
     "output_type": "execute_result"
    }
   ],
   "source": [
    "a = float('0.004')\n",
    "type(a)"
   ]
  },
  {
   "cell_type": "code",
   "execution_count": 8,
   "id": "e79899cb",
   "metadata": {},
   "outputs": [
    {
     "data": {
      "text/plain": [
       "str"
      ]
     },
     "execution_count": 8,
     "metadata": {},
     "output_type": "execute_result"
    }
   ],
   "source": [
    "a ='0.002'\n",
    "type(a)"
   ]
  },
  {
   "cell_type": "code",
   "execution_count": 9,
   "id": "45bb40ac",
   "metadata": {},
   "outputs": [
    {
     "name": "stdout",
     "output_type": "stream",
     "text": [
      "enter first number : 1\n",
      "enter second number : 2\n",
      "the sum given number is : 12\n"
     ]
    },
    {
     "data": {
      "text/plain": [
       "int"
      ]
     },
     "execution_count": 9,
     "metadata": {},
     "output_type": "execute_result"
    }
   ],
   "source": [
    "num1 = input('enter first number : ')\n",
    "num2 = input('enter second number : ')\n",
    "result = num1+num2\n",
    "print('the sum given number is :' , num1+num2)\n",
    "type(int(num1))"
   ]
  },
  {
   "cell_type": "code",
   "execution_count": 3,
   "id": "00ca4f0b",
   "metadata": {},
   "outputs": [
    {
     "name": "stdout",
     "output_type": "stream",
     "text": [
      "enter first number : 1\n",
      "enter second number : 2\n",
      "the sum given number is : 3\n"
     ]
    }
   ],
   "source": [
    "num1 = int(input('enter first number : '))\n",
    "num2 = int(input('enter second number : '))\n",
    "result = (int(num1+num2))\n",
    "print('the sum given number is :' , num1+num2)"
   ]
  },
  {
   "cell_type": "code",
   "execution_count": 4,
   "id": "d7c44a02",
   "metadata": {},
   "outputs": [
    {
     "name": "stdout",
     "output_type": "stream",
     "text": [
      "enter first number : 10\n",
      "enter second number :5\n",
      " the sum of given numbers is :  15\n",
      " the diff of given numbers is :  5\n",
      " the product of given number is :  50\n",
      " the quotient of given numbers is :  2.0\n"
     ]
    }
   ],
   "source": [
    "#take a two number as input and perform arithmatic operations\n",
    "num1 = int(input('enter first number : '))\n",
    "num2 = int(input('enter second number :'))\n",
    "print(' the sum of given numbers is : ', num1+num2)\n",
    "print(' the diff of given numbers is : ', num1-num2)\n",
    "print(' the product of given number is : ' , num1 * num2)\n",
    "print(' the quotient of given numbers is : ', num1 / num2)"
   ]
  },
  {
   "cell_type": "code",
   "execution_count": 5,
   "id": "71a4f489",
   "metadata": {},
   "outputs": [
    {
     "name": "stdout",
     "output_type": "stream",
     "text": [
      "enter principal amount : 2000\n",
      "enter rate of interest  :10\n",
      "enter number of year :3\n",
      "the sum of the result is : 600.0\n"
     ]
    }
   ],
   "source": [
    "#take principal amount ,rate of interest and number of years as input and print the simple interest\n",
    "num1 = int(input('enter principal amount : '))\n",
    "num2 = int(input('enter rate of interest  :'))\n",
    "num3 = int(input('enter number of year :'))\n",
    "result= ((num1*num2*num3)/100)\n",
    "print('the sum of the result is :',result)"
   ]
  },
  {
   "cell_type": "code",
   "execution_count": 3,
   "id": "adfb8a45",
   "metadata": {},
   "outputs": [
    {
     "name": "stdout",
     "output_type": "stream",
     "text": [
      "enter principal amount : 1000\n",
      "enter rate of interest  :2\n",
      "enter number of year :2\n",
      "the interset 1000 of the 2 year at the rate of 2% is : 40.0\n"
     ]
    }
   ],
   "source": [
    "principal_amount = int(input('enter principal amount : '))\n",
    "rate = int(input('enter rate of interest  :'))\n",
    "duration = int(input('enter number of year :'))\n",
    "interest = (principal_amount * rate * duration)/100\n",
    "print('the interset {} of the {} year at the rate of {}% is : {}'. format(principal_amount,duration,rate, interest))\n"
   ]
  },
  {
   "cell_type": "code",
   "execution_count": 7,
   "id": "703cac63",
   "metadata": {},
   "outputs": [
    {
     "name": "stdout",
     "output_type": "stream",
     "text": [
      "enter first number : 1\n",
      "enter second number :2\n",
      "values before swapping : \n",
      "num1 :  1\n",
      "num2 :  2\n",
      "values after swapping\n",
      "num1 :  2\n",
      "num2 :  1\n"
     ]
    }
   ],
   "source": [
    "#TAKE two numbers as input from the user and swap them\n",
    "num1 = int(input('enter first number : '))\n",
    "num2 = int(input('enter second number :'))\n",
    " \n",
    "print('values before swapping : ')\n",
    "print('num1 : ' , num1)\n",
    "print('num2 : ' , num2)\n",
    "temp=num1\n",
    "num1=num2\n",
    "num2=temp\n",
    "print('values after swapping')\n",
    "print('num1 : ' , num1)\n",
    "print('num2 : ' , num2)\n"
   ]
  },
  {
   "cell_type": "code",
   "execution_count": 8,
   "id": "7ee3024f",
   "metadata": {},
   "outputs": [
    {
     "name": "stdout",
     "output_type": "stream",
     "text": [
      "enter first number : 2\n",
      "enter second number :5\n",
      "values before swapping : \n",
      "num1 :  2\n",
      "num2 :  5\n",
      "values after swapping\n",
      "num1 :  5\n",
      "num2 :  2\n"
     ]
    }
   ],
   "source": [
    "# take two number as input from the user and swap them without temp variable\n",
    "num1 = int(input('enter first number : '))\n",
    "num2 = int(input('enter second number :'))\n",
    " \n",
    "print('values before swapping : ')\n",
    "print('num1 : ' , num1)\n",
    "print('num2 : ' , num2)\n",
    "num1 , num2 = num2 ,num1\n",
    "print('values after swapping')\n",
    "print('num1 : ' , num1)\n",
    "print('num2 : ' , num2)\n"
   ]
  },
  {
   "cell_type": "code",
   "execution_count": null,
   "id": "5fb86299",
   "metadata": {},
   "outputs": [],
   "source": []
  }
 ],
 "metadata": {
  "kernelspec": {
   "display_name": "Python 3 (ipykernel)",
   "language": "python",
   "name": "python3"
  },
  "language_info": {
   "codemirror_mode": {
    "name": "ipython",
    "version": 3
   },
   "file_extension": ".py",
   "mimetype": "text/x-python",
   "name": "python",
   "nbconvert_exporter": "python",
   "pygments_lexer": "ipython3",
   "version": "3.9.13"
  }
 },
 "nbformat": 4,
 "nbformat_minor": 5
}
